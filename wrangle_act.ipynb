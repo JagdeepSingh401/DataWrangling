{
 "cells": [
  {
   "cell_type": "markdown",
   "metadata": {},
   "source": [
    "#  Gathering Data"
   ]
  },
  {
   "cell_type": "code",
   "execution_count": 1,
   "metadata": {},
   "outputs": [],
   "source": [
    "import tweepy\n",
    "\n",
    "consumer_key = 'HIDDEN KEYS'\n",
    "consumer_secret = 'HIDDEN KEYS'\n",
    "access_token = 'HIDDEN KEYS'\n",
    "access_secret = 'HIDDEN KEYS'\n",
    "\n",
    "auth = tweepy.OAuthHandler(consumer_key, consumer_secret)\n",
    "auth.set_access_token(access_token, access_secret)\n",
    "\n",
    "api = tweepy.API(auth, wait_on_rate_limit=True, wait_on_rate_limit_notify=True)\n",
    "\n"
   ]
  },
  {
   "cell_type": "code",
   "execution_count": 7,
   "metadata": {},
   "outputs": [],
   "source": [
    "import pandas as pd\n",
    "import numpy as np\n",
    "import random\n",
    "import matplotlib.pyplot as plt\n",
    "import json\n",
    "import requests"
   ]
  },
  {
   "cell_type": "code",
   "execution_count": 3,
   "metadata": {},
   "outputs": [],
   "source": [
    "df = pd.read_csv('twitter-archive-enhanced-2.csv')"
   ]
  },
  {
   "cell_type": "code",
   "execution_count": 4,
   "metadata": {},
   "outputs": [
    {
     "name": "stdout",
     "output_type": "stream",
     "text": [
      "888202515573088257\n",
      "873697596434513921\n",
      "872668790621863937\n",
      "872261713294495745\n",
      "869988702071779329\n",
      "866816280283807744\n",
      "861769973181624320\n",
      "856602993587888130\n",
      "845459076796616705\n",
      "844704788403113984\n",
      "842892208864923648\n",
      "837012587749474308\n",
      "827228250799742977\n",
      "812747805718642688\n",
      "802247111496568832\n",
      "775096608509886464\n",
      "770743923962707968\n",
      "Rate limit reached. Sleeping for: 721\n",
      "754011816964026368\n",
      "680055455951884288\n",
      "Rate limit reached. Sleeping for: 721\n"
     ]
    }
   ],
   "source": [
    "missing_tweet_id = []\n",
    "data = []\n",
    "for i in range(len(df['tweet_id'])):\n",
    "    try:\n",
    "        tweet = api.get_status(df.iloc[i,0],tweet_mode='extended')\n",
    "        data.append(tweet._json)\n",
    "    except:\n",
    "        print(df.iloc[i,0])\n",
    "        missing_tweet_id.append(df.iloc[i,0])"
   ]
  },
  {
   "cell_type": "code",
   "execution_count": 5,
   "metadata": {},
   "outputs": [],
   "source": [
    "with open('tweet_json.txt',mode='w') as f:\n",
    "        json.dump(data, f)"
   ]
  },
  {
   "cell_type": "code",
   "execution_count": 4,
   "metadata": {
    "scrolled": true
   },
   "outputs": [],
   "source": [
    "twitter_additional_archive=pd.read_json('tweet_json.txt')"
   ]
  },
  {
   "cell_type": "code",
   "execution_count": 8,
   "metadata": {},
   "outputs": [],
   "source": [
    "predictions = requests.get('https://d17h27t6h515a5.cloudfront.net/topher/2017/August/599fd2ad_image-predictions/image-predictions.tsv')\n",
    "with open('predictions.tsv',mode='wb') as p:\n",
    "     p.write(predictions.content)"
   ]
  },
  {
   "cell_type": "code",
   "execution_count": 6,
   "metadata": {},
   "outputs": [],
   "source": [
    "i_predictions = pd.read_csv('predictions.tsv', sep='\\t')"
   ]
  },
  {
   "cell_type": "markdown",
   "metadata": {},
   "source": [
    "# Assesment of data"
   ]
  },
  {
   "cell_type": "code",
   "execution_count": 175,
   "metadata": {},
   "outputs": [],
   "source": [
    "#Tidy Issue 1: Removing unnecessary columns\n",
    "#Tidy Issue 2: Data needs joining into one master file "
   ]
  },
  {
   "cell_type": "code",
   "execution_count": 10,
   "metadata": {},
   "outputs": [
    {
     "name": "stdout",
     "output_type": "stream",
     "text": [
      "<class 'pandas.core.frame.DataFrame'>\n",
      "RangeIndex: 2356 entries, 0 to 2355\n",
      "Data columns (total 17 columns):\n",
      "tweet_id                      2356 non-null int64\n",
      "in_reply_to_status_id         78 non-null float64\n",
      "in_reply_to_user_id           78 non-null float64\n",
      "timestamp                     2356 non-null object\n",
      "source                        2356 non-null object\n",
      "text                          2356 non-null object\n",
      "retweeted_status_id           181 non-null float64\n",
      "retweeted_status_user_id      181 non-null float64\n",
      "retweeted_status_timestamp    181 non-null object\n",
      "expanded_urls                 2297 non-null object\n",
      "rating_numerator              2356 non-null int64\n",
      "rating_denominator            2356 non-null int64\n",
      "name                          2356 non-null object\n",
      "doggo                         2356 non-null object\n",
      "floofer                       2356 non-null object\n",
      "pupper                        2356 non-null object\n",
      "puppo                         2356 non-null object\n",
      "dtypes: float64(4), int64(3), object(10)\n",
      "memory usage: 313.0+ KB\n"
     ]
    }
   ],
   "source": [
    "df.info()\n",
    "#Quality Issue 1: Noticed that tweet_id is a integar but twitter recommends it to be a string \n",
    "#Quality Issue 2: retweet_status_id is a 181 and so those data points must be removed\n",
    "#Quality Issue 3: Once retweeted rows are removed, retweet_status_id, retweeted_status_user_id and \n",
    "                #retweeted_status_timestamp are obsolete and should be removed. "
   ]
  },
  {
   "cell_type": "code",
   "execution_count": 11,
   "metadata": {
    "scrolled": true
   },
   "outputs": [
    {
     "name": "stdout",
     "output_type": "stream",
     "text": [
      "<class 'pandas.core.frame.DataFrame'>\n",
      "RangeIndex: 2337 entries, 0 to 2336\n",
      "Data columns (total 32 columns):\n",
      "contributors                     0 non-null float64\n",
      "coordinates                      0 non-null float64\n",
      "created_at                       2337 non-null datetime64[ns]\n",
      "display_text_range               2337 non-null object\n",
      "entities                         2337 non-null object\n",
      "extended_entities                2065 non-null object\n",
      "favorite_count                   2337 non-null int64\n",
      "favorited                        2337 non-null bool\n",
      "full_text                        2337 non-null object\n",
      "geo                              0 non-null float64\n",
      "id                               2337 non-null int64\n",
      "id_str                           2337 non-null int64\n",
      "in_reply_to_screen_name          77 non-null object\n",
      "in_reply_to_status_id            77 non-null float64\n",
      "in_reply_to_status_id_str        77 non-null float64\n",
      "in_reply_to_user_id              77 non-null float64\n",
      "in_reply_to_user_id_str          77 non-null float64\n",
      "is_quote_status                  2337 non-null bool\n",
      "lang                             2337 non-null object\n",
      "place                            1 non-null object\n",
      "possibly_sensitive               2203 non-null float64\n",
      "possibly_sensitive_appealable    2203 non-null float64\n",
      "quoted_status                    24 non-null object\n",
      "quoted_status_id                 26 non-null float64\n",
      "quoted_status_id_str             26 non-null float64\n",
      "quoted_status_permalink          26 non-null object\n",
      "retweet_count                    2337 non-null int64\n",
      "retweeted                        2337 non-null bool\n",
      "retweeted_status                 166 non-null object\n",
      "source                           2337 non-null object\n",
      "truncated                        2337 non-null bool\n",
      "user                             2337 non-null object\n",
      "dtypes: bool(4), datetime64[ns](1), float64(11), int64(4), object(12)\n",
      "memory usage: 520.4+ KB\n"
     ]
    }
   ],
   "source": [
    "twitter_additional_archive.info()\n",
    "#Quality Issue 4: retweet_status_id is a 166 and so those data points must be removed\n",
    "#Quality Issue 5: Once retweeted rows are removed, retweet status id and retweeted are obsolete and should be removed.\n",
    "#Quality Issue 6: Noticed that id is a integar but twitter recommends it to be a string \n",
    "#Quality Issue 7: id_str is the same as id and should be removed.  "
   ]
  },
  {
   "cell_type": "code",
   "execution_count": 12,
   "metadata": {},
   "outputs": [
    {
     "name": "stdout",
     "output_type": "stream",
     "text": [
      "<class 'pandas.core.frame.DataFrame'>\n",
      "RangeIndex: 2075 entries, 0 to 2074\n",
      "Data columns (total 12 columns):\n",
      "tweet_id    2075 non-null int64\n",
      "jpg_url     2075 non-null object\n",
      "img_num     2075 non-null int64\n",
      "p1          2075 non-null object\n",
      "p1_conf     2075 non-null float64\n",
      "p1_dog      2075 non-null bool\n",
      "p2          2075 non-null object\n",
      "p2_conf     2075 non-null float64\n",
      "p2_dog      2075 non-null bool\n",
      "p3          2075 non-null object\n",
      "p3_conf     2075 non-null float64\n",
      "p3_dog      2075 non-null bool\n",
      "dtypes: bool(3), float64(3), int64(2), object(4)\n",
      "memory usage: 152.1+ KB\n"
     ]
    }
   ],
   "source": [
    "i_predictions.info()"
   ]
  },
  {
   "cell_type": "code",
   "execution_count": 13,
   "metadata": {},
   "outputs": [
    {
     "data": {
      "text/plain": [
       "True     1532\n",
       "False     543\n",
       "Name: p1_dog, dtype: int64"
      ]
     },
     "execution_count": 13,
     "metadata": {},
     "output_type": "execute_result"
    }
   ],
   "source": [
    "i_predictions['p1_dog'].value_counts()"
   ]
  },
  {
   "cell_type": "code",
   "execution_count": 14,
   "metadata": {},
   "outputs": [
    {
     "data": {
      "text/plain": [
       "True     1553\n",
       "False     522\n",
       "Name: p2_dog, dtype: int64"
      ]
     },
     "execution_count": 14,
     "metadata": {},
     "output_type": "execute_result"
    }
   ],
   "source": [
    "i_predictions['p2_dog'].value_counts()"
   ]
  },
  {
   "cell_type": "code",
   "execution_count": 15,
   "metadata": {},
   "outputs": [
    {
     "data": {
      "text/plain": [
       "True     1499\n",
       "False     576\n",
       "Name: p3_dog, dtype: int64"
      ]
     },
     "execution_count": 15,
     "metadata": {},
     "output_type": "execute_result"
    }
   ],
   "source": [
    "i_predictions['p3_dog'].value_counts()"
   ]
  },
  {
   "cell_type": "code",
   "execution_count": 16,
   "metadata": {},
   "outputs": [],
   "source": [
    "#Quality Issue number 8: P1 is the most likely prediction for what breed (if any) a dog maybe. \n",
    "#Therefore any false rows can be removed "
   ]
  },
  {
   "cell_type": "code",
   "execution_count": 17,
   "metadata": {},
   "outputs": [
    {
     "data": {
      "text/plain": [
       "tweet_id                      0\n",
       "in_reply_to_status_id         0\n",
       "in_reply_to_user_id           0\n",
       "timestamp                     0\n",
       "source                        0\n",
       "text                          0\n",
       "retweeted_status_id           0\n",
       "retweeted_status_user_id      0\n",
       "retweeted_status_timestamp    0\n",
       "expanded_urls                 0\n",
       "rating_numerator              0\n",
       "rating_denominator            0\n",
       "name                          0\n",
       "doggo                         0\n",
       "floofer                       0\n",
       "pupper                        0\n",
       "puppo                         0\n",
       "dtype: int64"
      ]
     },
     "execution_count": 17,
     "metadata": {},
     "output_type": "execute_result"
    }
   ],
   "source": [
    "#checking for duplicates in twitter archive \n",
    "df[df['tweet_id'].duplicated()].count()"
   ]
  },
  {
   "cell_type": "code",
   "execution_count": 18,
   "metadata": {},
   "outputs": [
    {
     "data": {
      "text/plain": [
       "contributors                     0\n",
       "coordinates                      0\n",
       "created_at                       0\n",
       "display_text_range               0\n",
       "entities                         0\n",
       "extended_entities                0\n",
       "favorite_count                   0\n",
       "favorited                        0\n",
       "full_text                        0\n",
       "geo                              0\n",
       "id                               0\n",
       "id_str                           0\n",
       "in_reply_to_screen_name          0\n",
       "in_reply_to_status_id            0\n",
       "in_reply_to_status_id_str        0\n",
       "in_reply_to_user_id              0\n",
       "in_reply_to_user_id_str          0\n",
       "is_quote_status                  0\n",
       "lang                             0\n",
       "place                            0\n",
       "possibly_sensitive               0\n",
       "possibly_sensitive_appealable    0\n",
       "quoted_status                    0\n",
       "quoted_status_id                 0\n",
       "quoted_status_id_str             0\n",
       "quoted_status_permalink          0\n",
       "retweet_count                    0\n",
       "retweeted                        0\n",
       "retweeted_status                 0\n",
       "source                           0\n",
       "truncated                        0\n",
       "user                             0\n",
       "dtype: int64"
      ]
     },
     "execution_count": 18,
     "metadata": {},
     "output_type": "execute_result"
    }
   ],
   "source": [
    "#Checking for duplicates in the additional archive \n",
    "twitter_additional_archive[twitter_additional_archive['id'].duplicated()].count()"
   ]
  },
  {
   "cell_type": "code",
   "execution_count": 19,
   "metadata": {},
   "outputs": [
    {
     "data": {
      "text/plain": [
       "tweet_id    0\n",
       "jpg_url     0\n",
       "img_num     0\n",
       "p1          0\n",
       "p1_conf     0\n",
       "p1_dog      0\n",
       "p2          0\n",
       "p2_conf     0\n",
       "p2_dog      0\n",
       "p3          0\n",
       "p3_conf     0\n",
       "p3_dog      0\n",
       "dtype: int64"
      ]
     },
     "execution_count": 19,
     "metadata": {},
     "output_type": "execute_result"
    }
   ],
   "source": [
    "#Checking for duplcaites in Predictions.  \n",
    "i_predictions[i_predictions['tweet_id'].duplicated()].count()"
   ]
  },
  {
   "cell_type": "code",
   "execution_count": 20,
   "metadata": {},
   "outputs": [],
   "source": [
    "missing_values = df['tweet_id'].isnull().values \n",
    "for i in range(len(df['tweet_id'])):\n",
    "    if missing_values[i] == True:\n",
    "        i\n",
    "#Since nothing was out put there is no missing data"
   ]
  },
  {
   "cell_type": "code",
   "execution_count": 21,
   "metadata": {},
   "outputs": [
    {
     "data": {
      "text/plain": [
       "12      558\n",
       "11      464\n",
       "10      461\n",
       "13      351\n",
       "9       158\n",
       "8       102\n",
       "7        55\n",
       "14       54\n",
       "5        37\n",
       "6        32\n",
       "3        19\n",
       "4        17\n",
       "1         9\n",
       "2         9\n",
       "420       2\n",
       "0         2\n",
       "15        2\n",
       "75        2\n",
       "80        1\n",
       "20        1\n",
       "24        1\n",
       "26        1\n",
       "44        1\n",
       "50        1\n",
       "60        1\n",
       "165       1\n",
       "84        1\n",
       "88        1\n",
       "144       1\n",
       "182       1\n",
       "143       1\n",
       "666       1\n",
       "960       1\n",
       "1776      1\n",
       "17        1\n",
       "27        1\n",
       "45        1\n",
       "99        1\n",
       "121       1\n",
       "204       1\n",
       "Name: rating_numerator, dtype: int64"
      ]
     },
     "execution_count": 21,
     "metadata": {},
     "output_type": "execute_result"
    }
   ],
   "source": [
    "df['rating_numerator'].value_counts()\n",
    "#Most ratings are between 12 and 13 however some ratings do not follow the \n",
    "#weratedogs rating system since they are below 10 on the other hand some \n",
    "#rating are significantly high. Further investigation is required on thier \n",
    "#legitimacy before they are removed.    "
   ]
  },
  {
   "cell_type": "code",
   "execution_count": 22,
   "metadata": {},
   "outputs": [
    {
     "data": {
      "text/plain": [
       "None          745\n",
       "a              55\n",
       "Charlie        12\n",
       "Cooper         11\n",
       "Oliver         11\n",
       "Lucy           11\n",
       "Tucker         10\n",
       "Lola           10\n",
       "Penny          10\n",
       "Winston         9\n",
       "Bo              9\n",
       "Sadie           8\n",
       "the             8\n",
       "Bailey          7\n",
       "Daisy           7\n",
       "an              7\n",
       "Toby            7\n",
       "Buddy           7\n",
       "Rusty           6\n",
       "Dave            6\n",
       "Oscar           6\n",
       "Bella           6\n",
       "Scout           6\n",
       "Jax             6\n",
       "Stanley         6\n",
       "Jack            6\n",
       "Milo            6\n",
       "Leo             6\n",
       "Koda            6\n",
       "Phil            5\n",
       "             ... \n",
       "Kara            1\n",
       "Lacy            1\n",
       "Iggy            1\n",
       "Roscoe          1\n",
       "DayZ            1\n",
       "Brandonald      1\n",
       "Mosby           1\n",
       "Cal             1\n",
       "Ole             1\n",
       "Chadrick        1\n",
       "Lillie          1\n",
       "Superpup        1\n",
       "Stuart          1\n",
       "Gordon          1\n",
       "Sprout          1\n",
       "Spencer         1\n",
       "Tassy           1\n",
       "Major           1\n",
       "Dunkin          1\n",
       "Combo           1\n",
       "Nimbus          1\n",
       "Dwight          1\n",
       "Tess            1\n",
       "Eleanor         1\n",
       "Tessa           1\n",
       "Julio           1\n",
       "Jiminus         1\n",
       "Buckley         1\n",
       "Molly           1\n",
       "Sweet           1\n",
       "Name: name, Length: 957, dtype: int64"
      ]
     },
     "execution_count": 22,
     "metadata": {},
     "output_type": "execute_result"
    }
   ],
   "source": [
    "df['name'].value_counts()\n",
    "#Some of the names are errors, where they may be only one letter or words \n",
    "#like 'the'."
   ]
  },
  {
   "cell_type": "markdown",
   "metadata": {},
   "source": [
    "# Cleaning "
   ]
  },
  {
   "cell_type": "markdown",
   "metadata": {},
   "source": [
    "**Quality Issue 1: Noticed that tweet_id is a integar but twitter recommneds it to be a string** "
   ]
  },
  {
   "cell_type": "code",
   "execution_count": 23,
   "metadata": {},
   "outputs": [],
   "source": [
    "df_copy = df"
   ]
  },
  {
   "cell_type": "code",
   "execution_count": 24,
   "metadata": {},
   "outputs": [
    {
     "name": "stdout",
     "output_type": "stream",
     "text": [
      "<class 'pandas.core.frame.DataFrame'>\n",
      "RangeIndex: 2356 entries, 0 to 2355\n",
      "Data columns (total 17 columns):\n",
      "tweet_id                      2356 non-null object\n",
      "in_reply_to_status_id         78 non-null float64\n",
      "in_reply_to_user_id           78 non-null float64\n",
      "timestamp                     2356 non-null object\n",
      "source                        2356 non-null object\n",
      "text                          2356 non-null object\n",
      "retweeted_status_id           181 non-null float64\n",
      "retweeted_status_user_id      181 non-null float64\n",
      "retweeted_status_timestamp    181 non-null object\n",
      "expanded_urls                 2297 non-null object\n",
      "rating_numerator              2356 non-null int64\n",
      "rating_denominator            2356 non-null int64\n",
      "name                          2356 non-null object\n",
      "doggo                         2356 non-null object\n",
      "floofer                       2356 non-null object\n",
      "pupper                        2356 non-null object\n",
      "puppo                         2356 non-null object\n",
      "dtypes: float64(4), int64(2), object(11)\n",
      "memory usage: 313.0+ KB\n"
     ]
    }
   ],
   "source": [
    "#df['tweet_id'] = df['tweet_id'].apply(str)\n",
    "df_copy.tweet_id = df_copy.tweet_id.astype(str)\n",
    "df_copy.info()"
   ]
  },
  {
   "cell_type": "code",
   "execution_count": 25,
   "metadata": {},
   "outputs": [
    {
     "data": {
      "text/plain": [
       "str"
      ]
     },
     "execution_count": 25,
     "metadata": {},
     "output_type": "execute_result"
    }
   ],
   "source": [
    "x = df_copy.iloc[0,0]\n",
    "type(x)"
   ]
  },
  {
   "cell_type": "markdown",
   "metadata": {},
   "source": [
    "**Quality Issue 2: retweet_status_id is a 181 and so those data points must be removed**"
   ]
  },
  {
   "cell_type": "code",
   "execution_count": 26,
   "metadata": {},
   "outputs": [
    {
     "data": {
      "text/plain": [
       "(2175, 17)"
      ]
     },
     "execution_count": 26,
     "metadata": {},
     "output_type": "execute_result"
    }
   ],
   "source": [
    "df_copy.retweeted_status_id = df_copy.retweeted_status_id.fillna(0)\n",
    "a =df_copy.index[df_copy['retweeted_status_id'] > 0] \n",
    "df_copy = df_copy.drop(df_copy.index[a])\n",
    "df_copy.shape"
   ]
  },
  {
   "cell_type": "markdown",
   "metadata": {},
   "source": [
    "**Quality Issue 3: Once retweeted rows are removed, retweeted_status_id, retweeted_status_user_id and \n",
    "retweeted_status_timestamp are obsolete and should be removed.** "
   ]
  },
  {
   "cell_type": "code",
   "execution_count": 27,
   "metadata": {},
   "outputs": [
    {
     "data": {
      "text/html": [
       "<div>\n",
       "<style scoped>\n",
       "    .dataframe tbody tr th:only-of-type {\n",
       "        vertical-align: middle;\n",
       "    }\n",
       "\n",
       "    .dataframe tbody tr th {\n",
       "        vertical-align: top;\n",
       "    }\n",
       "\n",
       "    .dataframe thead th {\n",
       "        text-align: right;\n",
       "    }\n",
       "</style>\n",
       "<table border=\"1\" class=\"dataframe\">\n",
       "  <thead>\n",
       "    <tr style=\"text-align: right;\">\n",
       "      <th></th>\n",
       "      <th>tweet_id</th>\n",
       "      <th>in_reply_to_status_id</th>\n",
       "      <th>in_reply_to_user_id</th>\n",
       "      <th>timestamp</th>\n",
       "      <th>source</th>\n",
       "      <th>text</th>\n",
       "      <th>expanded_urls</th>\n",
       "      <th>rating_numerator</th>\n",
       "      <th>rating_denominator</th>\n",
       "      <th>name</th>\n",
       "      <th>doggo</th>\n",
       "      <th>floofer</th>\n",
       "      <th>pupper</th>\n",
       "      <th>puppo</th>\n",
       "    </tr>\n",
       "  </thead>\n",
       "  <tbody>\n",
       "    <tr>\n",
       "      <th>0</th>\n",
       "      <td>892420643555336193</td>\n",
       "      <td>NaN</td>\n",
       "      <td>NaN</td>\n",
       "      <td>2017-08-01 16:23:56 +0000</td>\n",
       "      <td>&lt;a href=\"http://twitter.com/download/iphone\" r...</td>\n",
       "      <td>This is Phineas. He's a mystical boy. Only eve...</td>\n",
       "      <td>https://twitter.com/dog_rates/status/892420643...</td>\n",
       "      <td>13</td>\n",
       "      <td>10</td>\n",
       "      <td>Phineas</td>\n",
       "      <td>None</td>\n",
       "      <td>None</td>\n",
       "      <td>None</td>\n",
       "      <td>None</td>\n",
       "    </tr>\n",
       "    <tr>\n",
       "      <th>1</th>\n",
       "      <td>892177421306343426</td>\n",
       "      <td>NaN</td>\n",
       "      <td>NaN</td>\n",
       "      <td>2017-08-01 00:17:27 +0000</td>\n",
       "      <td>&lt;a href=\"http://twitter.com/download/iphone\" r...</td>\n",
       "      <td>This is Tilly. She's just checking pup on you....</td>\n",
       "      <td>https://twitter.com/dog_rates/status/892177421...</td>\n",
       "      <td>13</td>\n",
       "      <td>10</td>\n",
       "      <td>Tilly</td>\n",
       "      <td>None</td>\n",
       "      <td>None</td>\n",
       "      <td>None</td>\n",
       "      <td>None</td>\n",
       "    </tr>\n",
       "    <tr>\n",
       "      <th>2</th>\n",
       "      <td>891815181378084864</td>\n",
       "      <td>NaN</td>\n",
       "      <td>NaN</td>\n",
       "      <td>2017-07-31 00:18:03 +0000</td>\n",
       "      <td>&lt;a href=\"http://twitter.com/download/iphone\" r...</td>\n",
       "      <td>This is Archie. He is a rare Norwegian Pouncin...</td>\n",
       "      <td>https://twitter.com/dog_rates/status/891815181...</td>\n",
       "      <td>12</td>\n",
       "      <td>10</td>\n",
       "      <td>Archie</td>\n",
       "      <td>None</td>\n",
       "      <td>None</td>\n",
       "      <td>None</td>\n",
       "      <td>None</td>\n",
       "    </tr>\n",
       "    <tr>\n",
       "      <th>3</th>\n",
       "      <td>891689557279858688</td>\n",
       "      <td>NaN</td>\n",
       "      <td>NaN</td>\n",
       "      <td>2017-07-30 15:58:51 +0000</td>\n",
       "      <td>&lt;a href=\"http://twitter.com/download/iphone\" r...</td>\n",
       "      <td>This is Darla. She commenced a snooze mid meal...</td>\n",
       "      <td>https://twitter.com/dog_rates/status/891689557...</td>\n",
       "      <td>13</td>\n",
       "      <td>10</td>\n",
       "      <td>Darla</td>\n",
       "      <td>None</td>\n",
       "      <td>None</td>\n",
       "      <td>None</td>\n",
       "      <td>None</td>\n",
       "    </tr>\n",
       "    <tr>\n",
       "      <th>4</th>\n",
       "      <td>891327558926688256</td>\n",
       "      <td>NaN</td>\n",
       "      <td>NaN</td>\n",
       "      <td>2017-07-29 16:00:24 +0000</td>\n",
       "      <td>&lt;a href=\"http://twitter.com/download/iphone\" r...</td>\n",
       "      <td>This is Franklin. He would like you to stop ca...</td>\n",
       "      <td>https://twitter.com/dog_rates/status/891327558...</td>\n",
       "      <td>12</td>\n",
       "      <td>10</td>\n",
       "      <td>Franklin</td>\n",
       "      <td>None</td>\n",
       "      <td>None</td>\n",
       "      <td>None</td>\n",
       "      <td>None</td>\n",
       "    </tr>\n",
       "  </tbody>\n",
       "</table>\n",
       "</div>"
      ],
      "text/plain": [
       "             tweet_id  in_reply_to_status_id  in_reply_to_user_id  \\\n",
       "0  892420643555336193                    NaN                  NaN   \n",
       "1  892177421306343426                    NaN                  NaN   \n",
       "2  891815181378084864                    NaN                  NaN   \n",
       "3  891689557279858688                    NaN                  NaN   \n",
       "4  891327558926688256                    NaN                  NaN   \n",
       "\n",
       "                   timestamp  \\\n",
       "0  2017-08-01 16:23:56 +0000   \n",
       "1  2017-08-01 00:17:27 +0000   \n",
       "2  2017-07-31 00:18:03 +0000   \n",
       "3  2017-07-30 15:58:51 +0000   \n",
       "4  2017-07-29 16:00:24 +0000   \n",
       "\n",
       "                                              source  \\\n",
       "0  <a href=\"http://twitter.com/download/iphone\" r...   \n",
       "1  <a href=\"http://twitter.com/download/iphone\" r...   \n",
       "2  <a href=\"http://twitter.com/download/iphone\" r...   \n",
       "3  <a href=\"http://twitter.com/download/iphone\" r...   \n",
       "4  <a href=\"http://twitter.com/download/iphone\" r...   \n",
       "\n",
       "                                                text  \\\n",
       "0  This is Phineas. He's a mystical boy. Only eve...   \n",
       "1  This is Tilly. She's just checking pup on you....   \n",
       "2  This is Archie. He is a rare Norwegian Pouncin...   \n",
       "3  This is Darla. She commenced a snooze mid meal...   \n",
       "4  This is Franklin. He would like you to stop ca...   \n",
       "\n",
       "                                       expanded_urls  rating_numerator  \\\n",
       "0  https://twitter.com/dog_rates/status/892420643...                13   \n",
       "1  https://twitter.com/dog_rates/status/892177421...                13   \n",
       "2  https://twitter.com/dog_rates/status/891815181...                12   \n",
       "3  https://twitter.com/dog_rates/status/891689557...                13   \n",
       "4  https://twitter.com/dog_rates/status/891327558...                12   \n",
       "\n",
       "   rating_denominator      name doggo floofer pupper puppo  \n",
       "0                  10   Phineas  None    None   None  None  \n",
       "1                  10     Tilly  None    None   None  None  \n",
       "2                  10    Archie  None    None   None  None  \n",
       "3                  10     Darla  None    None   None  None  \n",
       "4                  10  Franklin  None    None   None  None  "
      ]
     },
     "execution_count": 27,
     "metadata": {},
     "output_type": "execute_result"
    }
   ],
   "source": [
    "df_copy =df_copy.drop(['retweeted_status_id', 'retweeted_status_user_id', 'retweeted_status_timestamp'], axis=1)\n",
    "df_copy.head()"
   ]
  },
  {
   "cell_type": "markdown",
   "metadata": {},
   "source": [
    "**Quality Issue 4: retweet_status_id is a 166 and so those data points must be removed**"
   ]
  },
  {
   "cell_type": "code",
   "execution_count": 28,
   "metadata": {},
   "outputs": [],
   "source": [
    "twitter_additional_archive_copy =twitter_additional_archive"
   ]
  },
  {
   "cell_type": "code",
   "execution_count": 29,
   "metadata": {},
   "outputs": [
    {
     "data": {
      "text/plain": [
       "(2171, 32)"
      ]
     },
     "execution_count": 29,
     "metadata": {},
     "output_type": "execute_result"
    }
   ],
   "source": [
    "twitter_additional_archive_copy.retweeted_status = twitter_additional_archive_copy.retweeted_status.fillna(0)\n",
    "b =twitter_additional_archive_copy.index[twitter_additional_archive_copy['retweeted_status'] != 0] \n",
    "twitter_additional_archive_copy = twitter_additional_archive_copy.drop(twitter_additional_archive_copy.index[b])\n",
    "twitter_additional_archive_copy.shape"
   ]
  },
  {
   "cell_type": "markdown",
   "metadata": {},
   "source": [
    "**Quality Issue 5: Once retweeted rows are removed, retweet status id and retweeted are obsolete and should be removed.** "
   ]
  },
  {
   "cell_type": "code",
   "execution_count": 30,
   "metadata": {},
   "outputs": [],
   "source": [
    "twitter_additional_archive_copy =twitter_additional_archive_copy.drop(['retweeted_status', 'retweeted'], axis=1)"
   ]
  },
  {
   "cell_type": "code",
   "execution_count": 31,
   "metadata": {},
   "outputs": [
    {
     "data": {
      "text/html": [
       "<div>\n",
       "<style scoped>\n",
       "    .dataframe tbody tr th:only-of-type {\n",
       "        vertical-align: middle;\n",
       "    }\n",
       "\n",
       "    .dataframe tbody tr th {\n",
       "        vertical-align: top;\n",
       "    }\n",
       "\n",
       "    .dataframe thead th {\n",
       "        text-align: right;\n",
       "    }\n",
       "</style>\n",
       "<table border=\"1\" class=\"dataframe\">\n",
       "  <thead>\n",
       "    <tr style=\"text-align: right;\">\n",
       "      <th></th>\n",
       "      <th>contributors</th>\n",
       "      <th>coordinates</th>\n",
       "      <th>created_at</th>\n",
       "      <th>display_text_range</th>\n",
       "      <th>entities</th>\n",
       "      <th>extended_entities</th>\n",
       "      <th>favorite_count</th>\n",
       "      <th>favorited</th>\n",
       "      <th>full_text</th>\n",
       "      <th>geo</th>\n",
       "      <th>...</th>\n",
       "      <th>possibly_sensitive</th>\n",
       "      <th>possibly_sensitive_appealable</th>\n",
       "      <th>quoted_status</th>\n",
       "      <th>quoted_status_id</th>\n",
       "      <th>quoted_status_id_str</th>\n",
       "      <th>quoted_status_permalink</th>\n",
       "      <th>retweet_count</th>\n",
       "      <th>source</th>\n",
       "      <th>truncated</th>\n",
       "      <th>user</th>\n",
       "    </tr>\n",
       "  </thead>\n",
       "  <tbody>\n",
       "    <tr>\n",
       "      <th>0</th>\n",
       "      <td>NaN</td>\n",
       "      <td>NaN</td>\n",
       "      <td>2017-08-01 16:23:56</td>\n",
       "      <td>[0, 85]</td>\n",
       "      <td>{'hashtags': [], 'symbols': [], 'user_mentions...</td>\n",
       "      <td>{'media': [{'id': 892420639486877696, 'id_str'...</td>\n",
       "      <td>37500</td>\n",
       "      <td>False</td>\n",
       "      <td>This is Phineas. He's a mystical boy. Only eve...</td>\n",
       "      <td>NaN</td>\n",
       "      <td>...</td>\n",
       "      <td>0.0</td>\n",
       "      <td>0.0</td>\n",
       "      <td>NaN</td>\n",
       "      <td>NaN</td>\n",
       "      <td>NaN</td>\n",
       "      <td>NaN</td>\n",
       "      <td>8174</td>\n",
       "      <td>&lt;a href=\"http://twitter.com/download/iphone\" r...</td>\n",
       "      <td>False</td>\n",
       "      <td>{'id': 4196983835, 'id_str': '4196983835', 'na...</td>\n",
       "    </tr>\n",
       "    <tr>\n",
       "      <th>1</th>\n",
       "      <td>NaN</td>\n",
       "      <td>NaN</td>\n",
       "      <td>2017-08-01 00:17:27</td>\n",
       "      <td>[0, 138]</td>\n",
       "      <td>{'hashtags': [], 'symbols': [], 'user_mentions...</td>\n",
       "      <td>{'media': [{'id': 892177413194625024, 'id_str'...</td>\n",
       "      <td>32245</td>\n",
       "      <td>False</td>\n",
       "      <td>This is Tilly. She's just checking pup on you....</td>\n",
       "      <td>NaN</td>\n",
       "      <td>...</td>\n",
       "      <td>0.0</td>\n",
       "      <td>0.0</td>\n",
       "      <td>NaN</td>\n",
       "      <td>NaN</td>\n",
       "      <td>NaN</td>\n",
       "      <td>NaN</td>\n",
       "      <td>6050</td>\n",
       "      <td>&lt;a href=\"http://twitter.com/download/iphone\" r...</td>\n",
       "      <td>False</td>\n",
       "      <td>{'id': 4196983835, 'id_str': '4196983835', 'na...</td>\n",
       "    </tr>\n",
       "    <tr>\n",
       "      <th>2</th>\n",
       "      <td>NaN</td>\n",
       "      <td>NaN</td>\n",
       "      <td>2017-07-31 00:18:03</td>\n",
       "      <td>[0, 121]</td>\n",
       "      <td>{'hashtags': [], 'symbols': [], 'user_mentions...</td>\n",
       "      <td>{'media': [{'id': 891815175371796480, 'id_str'...</td>\n",
       "      <td>24288</td>\n",
       "      <td>False</td>\n",
       "      <td>This is Archie. He is a rare Norwegian Pouncin...</td>\n",
       "      <td>NaN</td>\n",
       "      <td>...</td>\n",
       "      <td>0.0</td>\n",
       "      <td>0.0</td>\n",
       "      <td>NaN</td>\n",
       "      <td>NaN</td>\n",
       "      <td>NaN</td>\n",
       "      <td>NaN</td>\n",
       "      <td>4000</td>\n",
       "      <td>&lt;a href=\"http://twitter.com/download/iphone\" r...</td>\n",
       "      <td>False</td>\n",
       "      <td>{'id': 4196983835, 'id_str': '4196983835', 'na...</td>\n",
       "    </tr>\n",
       "    <tr>\n",
       "      <th>3</th>\n",
       "      <td>NaN</td>\n",
       "      <td>NaN</td>\n",
       "      <td>2017-07-30 15:58:51</td>\n",
       "      <td>[0, 79]</td>\n",
       "      <td>{'hashtags': [], 'symbols': [], 'user_mentions...</td>\n",
       "      <td>{'media': [{'id': 891689552724799489, 'id_str'...</td>\n",
       "      <td>40822</td>\n",
       "      <td>False</td>\n",
       "      <td>This is Darla. She commenced a snooze mid meal...</td>\n",
       "      <td>NaN</td>\n",
       "      <td>...</td>\n",
       "      <td>0.0</td>\n",
       "      <td>0.0</td>\n",
       "      <td>NaN</td>\n",
       "      <td>NaN</td>\n",
       "      <td>NaN</td>\n",
       "      <td>NaN</td>\n",
       "      <td>8325</td>\n",
       "      <td>&lt;a href=\"http://twitter.com/download/iphone\" r...</td>\n",
       "      <td>False</td>\n",
       "      <td>{'id': 4196983835, 'id_str': '4196983835', 'na...</td>\n",
       "    </tr>\n",
       "    <tr>\n",
       "      <th>4</th>\n",
       "      <td>NaN</td>\n",
       "      <td>NaN</td>\n",
       "      <td>2017-07-29 16:00:24</td>\n",
       "      <td>[0, 138]</td>\n",
       "      <td>{'hashtags': [{'text': 'BarkWeek', 'indices': ...</td>\n",
       "      <td>{'media': [{'id': 891327551943041024, 'id_str'...</td>\n",
       "      <td>39048</td>\n",
       "      <td>False</td>\n",
       "      <td>This is Franklin. He would like you to stop ca...</td>\n",
       "      <td>NaN</td>\n",
       "      <td>...</td>\n",
       "      <td>0.0</td>\n",
       "      <td>0.0</td>\n",
       "      <td>NaN</td>\n",
       "      <td>NaN</td>\n",
       "      <td>NaN</td>\n",
       "      <td>NaN</td>\n",
       "      <td>9018</td>\n",
       "      <td>&lt;a href=\"http://twitter.com/download/iphone\" r...</td>\n",
       "      <td>False</td>\n",
       "      <td>{'id': 4196983835, 'id_str': '4196983835', 'na...</td>\n",
       "    </tr>\n",
       "  </tbody>\n",
       "</table>\n",
       "<p>5 rows × 30 columns</p>\n",
       "</div>"
      ],
      "text/plain": [
       "   contributors  coordinates          created_at display_text_range  \\\n",
       "0           NaN          NaN 2017-08-01 16:23:56            [0, 85]   \n",
       "1           NaN          NaN 2017-08-01 00:17:27           [0, 138]   \n",
       "2           NaN          NaN 2017-07-31 00:18:03           [0, 121]   \n",
       "3           NaN          NaN 2017-07-30 15:58:51            [0, 79]   \n",
       "4           NaN          NaN 2017-07-29 16:00:24           [0, 138]   \n",
       "\n",
       "                                            entities  \\\n",
       "0  {'hashtags': [], 'symbols': [], 'user_mentions...   \n",
       "1  {'hashtags': [], 'symbols': [], 'user_mentions...   \n",
       "2  {'hashtags': [], 'symbols': [], 'user_mentions...   \n",
       "3  {'hashtags': [], 'symbols': [], 'user_mentions...   \n",
       "4  {'hashtags': [{'text': 'BarkWeek', 'indices': ...   \n",
       "\n",
       "                                   extended_entities  favorite_count  \\\n",
       "0  {'media': [{'id': 892420639486877696, 'id_str'...           37500   \n",
       "1  {'media': [{'id': 892177413194625024, 'id_str'...           32245   \n",
       "2  {'media': [{'id': 891815175371796480, 'id_str'...           24288   \n",
       "3  {'media': [{'id': 891689552724799489, 'id_str'...           40822   \n",
       "4  {'media': [{'id': 891327551943041024, 'id_str'...           39048   \n",
       "\n",
       "   favorited                                          full_text  geo  \\\n",
       "0      False  This is Phineas. He's a mystical boy. Only eve...  NaN   \n",
       "1      False  This is Tilly. She's just checking pup on you....  NaN   \n",
       "2      False  This is Archie. He is a rare Norwegian Pouncin...  NaN   \n",
       "3      False  This is Darla. She commenced a snooze mid meal...  NaN   \n",
       "4      False  This is Franklin. He would like you to stop ca...  NaN   \n",
       "\n",
       "                         ...                          possibly_sensitive  \\\n",
       "0                        ...                                         0.0   \n",
       "1                        ...                                         0.0   \n",
       "2                        ...                                         0.0   \n",
       "3                        ...                                         0.0   \n",
       "4                        ...                                         0.0   \n",
       "\n",
       "   possibly_sensitive_appealable quoted_status  quoted_status_id  \\\n",
       "0                            0.0           NaN               NaN   \n",
       "1                            0.0           NaN               NaN   \n",
       "2                            0.0           NaN               NaN   \n",
       "3                            0.0           NaN               NaN   \n",
       "4                            0.0           NaN               NaN   \n",
       "\n",
       "   quoted_status_id_str  quoted_status_permalink  retweet_count  \\\n",
       "0                   NaN                      NaN           8174   \n",
       "1                   NaN                      NaN           6050   \n",
       "2                   NaN                      NaN           4000   \n",
       "3                   NaN                      NaN           8325   \n",
       "4                   NaN                      NaN           9018   \n",
       "\n",
       "                                              source truncated  \\\n",
       "0  <a href=\"http://twitter.com/download/iphone\" r...     False   \n",
       "1  <a href=\"http://twitter.com/download/iphone\" r...     False   \n",
       "2  <a href=\"http://twitter.com/download/iphone\" r...     False   \n",
       "3  <a href=\"http://twitter.com/download/iphone\" r...     False   \n",
       "4  <a href=\"http://twitter.com/download/iphone\" r...     False   \n",
       "\n",
       "                                                user  \n",
       "0  {'id': 4196983835, 'id_str': '4196983835', 'na...  \n",
       "1  {'id': 4196983835, 'id_str': '4196983835', 'na...  \n",
       "2  {'id': 4196983835, 'id_str': '4196983835', 'na...  \n",
       "3  {'id': 4196983835, 'id_str': '4196983835', 'na...  \n",
       "4  {'id': 4196983835, 'id_str': '4196983835', 'na...  \n",
       "\n",
       "[5 rows x 30 columns]"
      ]
     },
     "execution_count": 31,
     "metadata": {},
     "output_type": "execute_result"
    }
   ],
   "source": [
    "twitter_additional_archive_copy.head()"
   ]
  },
  {
   "cell_type": "markdown",
   "metadata": {},
   "source": [
    "**Quality Issue 6: Noticed that id is a integar but twitter recommneds it to be a string** "
   ]
  },
  {
   "cell_type": "code",
   "execution_count": 32,
   "metadata": {},
   "outputs": [
    {
     "name": "stdout",
     "output_type": "stream",
     "text": [
      "<class 'pandas.core.frame.DataFrame'>\n",
      "Int64Index: 2171 entries, 0 to 2336\n",
      "Data columns (total 30 columns):\n",
      "contributors                     0 non-null float64\n",
      "coordinates                      0 non-null float64\n",
      "created_at                       2171 non-null datetime64[ns]\n",
      "display_text_range               2171 non-null object\n",
      "entities                         2171 non-null object\n",
      "extended_entities                1990 non-null object\n",
      "favorite_count                   2171 non-null int64\n",
      "favorited                        2171 non-null bool\n",
      "full_text                        2171 non-null object\n",
      "geo                              0 non-null float64\n",
      "id                               2171 non-null object\n",
      "id_str                           2171 non-null int64\n",
      "in_reply_to_screen_name          77 non-null object\n",
      "in_reply_to_status_id            77 non-null float64\n",
      "in_reply_to_status_id_str        77 non-null float64\n",
      "in_reply_to_user_id              77 non-null float64\n",
      "in_reply_to_user_id_str          77 non-null float64\n",
      "is_quote_status                  2171 non-null bool\n",
      "lang                             2171 non-null object\n",
      "place                            1 non-null object\n",
      "possibly_sensitive               2113 non-null float64\n",
      "possibly_sensitive_appealable    2113 non-null float64\n",
      "quoted_status                    24 non-null object\n",
      "quoted_status_id                 25 non-null float64\n",
      "quoted_status_id_str             25 non-null float64\n",
      "quoted_status_permalink          25 non-null object\n",
      "retweet_count                    2171 non-null int64\n",
      "source                           2171 non-null object\n",
      "truncated                        2171 non-null bool\n",
      "user                             2171 non-null object\n",
      "dtypes: bool(3), datetime64[ns](1), float64(11), int64(3), object(12)\n",
      "memory usage: 481.3+ KB\n"
     ]
    }
   ],
   "source": [
    "twitter_additional_archive_copy.id = twitter_additional_archive_copy.id.astype(str)\n",
    "twitter_additional_archive_copy.info()"
   ]
  },
  {
   "cell_type": "markdown",
   "metadata": {},
   "source": [
    "**Quality Issue 7: id_str is the same as id and so should be removed.** "
   ]
  },
  {
   "cell_type": "code",
   "execution_count": 33,
   "metadata": {},
   "outputs": [],
   "source": [
    "twitter_additional_archive_copy =twitter_additional_archive_copy.drop(['id_str'], axis=1)"
   ]
  },
  {
   "cell_type": "code",
   "execution_count": 34,
   "metadata": {},
   "outputs": [
    {
     "name": "stdout",
     "output_type": "stream",
     "text": [
      "<class 'pandas.core.frame.DataFrame'>\n",
      "Int64Index: 2171 entries, 0 to 2336\n",
      "Data columns (total 29 columns):\n",
      "contributors                     0 non-null float64\n",
      "coordinates                      0 non-null float64\n",
      "created_at                       2171 non-null datetime64[ns]\n",
      "display_text_range               2171 non-null object\n",
      "entities                         2171 non-null object\n",
      "extended_entities                1990 non-null object\n",
      "favorite_count                   2171 non-null int64\n",
      "favorited                        2171 non-null bool\n",
      "full_text                        2171 non-null object\n",
      "geo                              0 non-null float64\n",
      "id                               2171 non-null object\n",
      "in_reply_to_screen_name          77 non-null object\n",
      "in_reply_to_status_id            77 non-null float64\n",
      "in_reply_to_status_id_str        77 non-null float64\n",
      "in_reply_to_user_id              77 non-null float64\n",
      "in_reply_to_user_id_str          77 non-null float64\n",
      "is_quote_status                  2171 non-null bool\n",
      "lang                             2171 non-null object\n",
      "place                            1 non-null object\n",
      "possibly_sensitive               2113 non-null float64\n",
      "possibly_sensitive_appealable    2113 non-null float64\n",
      "quoted_status                    24 non-null object\n",
      "quoted_status_id                 25 non-null float64\n",
      "quoted_status_id_str             25 non-null float64\n",
      "quoted_status_permalink          25 non-null object\n",
      "retweet_count                    2171 non-null int64\n",
      "source                           2171 non-null object\n",
      "truncated                        2171 non-null bool\n",
      "user                             2171 non-null object\n",
      "dtypes: bool(3), datetime64[ns](1), float64(11), int64(2), object(12)\n",
      "memory usage: 464.3+ KB\n"
     ]
    }
   ],
   "source": [
    "twitter_additional_archive_copy.info()"
   ]
  },
  {
   "cell_type": "markdown",
   "metadata": {},
   "source": [
    "**Quality Issue number 8: P1 is the most likely prediction for what breed (if any) a dog maybe. \n",
    "Therefore any false rows can be removed**"
   ]
  },
  {
   "cell_type": "code",
   "execution_count": 35,
   "metadata": {},
   "outputs": [],
   "source": [
    "i_predictions_copy = i_predictions "
   ]
  },
  {
   "cell_type": "code",
   "execution_count": 36,
   "metadata": {},
   "outputs": [
    {
     "data": {
      "text/plain": [
       "(1532, 12)"
      ]
     },
     "execution_count": 36,
     "metadata": {},
     "output_type": "execute_result"
    }
   ],
   "source": [
    "c =i_predictions_copy.index[i_predictions_copy['p1_dog'] == False] \n",
    "i_predictions_copy = i_predictions_copy.drop(i_predictions_copy.index[c])\n",
    "i_predictions_copy.shape"
   ]
  },
  {
   "cell_type": "markdown",
   "metadata": {},
   "source": [
    "# Tidying  "
   ]
  },
  {
   "cell_type": "markdown",
   "metadata": {},
   "source": [
    "**Tidying item 1: Remove unnecessary columns**"
   ]
  },
  {
   "cell_type": "code",
   "execution_count": 37,
   "metadata": {},
   "outputs": [],
   "source": [
    "df_copy = df_copy.drop(['in_reply_to_status_id','in_reply_to_user_id'],axis=1)"
   ]
  },
  {
   "cell_type": "code",
   "execution_count": 38,
   "metadata": {
    "scrolled": true
   },
   "outputs": [
    {
     "name": "stdout",
     "output_type": "stream",
     "text": [
      "<class 'pandas.core.frame.DataFrame'>\n",
      "Int64Index: 2175 entries, 0 to 2355\n",
      "Data columns (total 12 columns):\n",
      "tweet_id              2175 non-null object\n",
      "timestamp             2175 non-null object\n",
      "source                2175 non-null object\n",
      "text                  2175 non-null object\n",
      "expanded_urls         2117 non-null object\n",
      "rating_numerator      2175 non-null int64\n",
      "rating_denominator    2175 non-null int64\n",
      "name                  2175 non-null object\n",
      "doggo                 2175 non-null object\n",
      "floofer               2175 non-null object\n",
      "pupper                2175 non-null object\n",
      "puppo                 2175 non-null object\n",
      "dtypes: int64(2), object(10)\n",
      "memory usage: 220.9+ KB\n"
     ]
    }
   ],
   "source": [
    "df_copy.info()"
   ]
  },
  {
   "cell_type": "code",
   "execution_count": 39,
   "metadata": {},
   "outputs": [],
   "source": [
    "twitter_additional_archive_copy = twitter_additional_archive_copy.drop(['contributors','coordinates','display_text_range',\n",
    "                                                                        'extended_entities','full_text','geo','in_reply_to_screen_name',\n",
    "                                                                        'in_reply_to_status_id','in_reply_to_status_id_str','in_reply_to_user_id',\n",
    "                                                                        'in_reply_to_user_id_str','place','quoted_status','quoted_status_id',\n",
    "                                                                        'quoted_status_id_str','quoted_status_permalink'],axis=1)"
   ]
  },
  {
   "cell_type": "code",
   "execution_count": 40,
   "metadata": {
    "scrolled": true
   },
   "outputs": [
    {
     "name": "stdout",
     "output_type": "stream",
     "text": [
      "<class 'pandas.core.frame.DataFrame'>\n",
      "Int64Index: 2171 entries, 0 to 2336\n",
      "Data columns (total 13 columns):\n",
      "created_at                       2171 non-null datetime64[ns]\n",
      "entities                         2171 non-null object\n",
      "favorite_count                   2171 non-null int64\n",
      "favorited                        2171 non-null bool\n",
      "id                               2171 non-null object\n",
      "is_quote_status                  2171 non-null bool\n",
      "lang                             2171 non-null object\n",
      "possibly_sensitive               2113 non-null float64\n",
      "possibly_sensitive_appealable    2113 non-null float64\n",
      "retweet_count                    2171 non-null int64\n",
      "source                           2171 non-null object\n",
      "truncated                        2171 non-null bool\n",
      "user                             2171 non-null object\n",
      "dtypes: bool(3), datetime64[ns](1), float64(2), int64(2), object(5)\n",
      "memory usage: 192.9+ KB\n"
     ]
    }
   ],
   "source": [
    "twitter_additional_archive_copy.info()"
   ]
  },
  {
   "cell_type": "code",
   "execution_count": 41,
   "metadata": {},
   "outputs": [],
   "source": [
    "i_predictions_copy = i_predictions_copy.drop(['img_num'],axis=1)"
   ]
  },
  {
   "cell_type": "code",
   "execution_count": 42,
   "metadata": {
    "scrolled": false
   },
   "outputs": [
    {
     "name": "stdout",
     "output_type": "stream",
     "text": [
      "<class 'pandas.core.frame.DataFrame'>\n",
      "Int64Index: 1532 entries, 0 to 2073\n",
      "Data columns (total 11 columns):\n",
      "tweet_id    1532 non-null int64\n",
      "jpg_url     1532 non-null object\n",
      "p1          1532 non-null object\n",
      "p1_conf     1532 non-null float64\n",
      "p1_dog      1532 non-null bool\n",
      "p2          1532 non-null object\n",
      "p2_conf     1532 non-null float64\n",
      "p2_dog      1532 non-null bool\n",
      "p3          1532 non-null object\n",
      "p3_conf     1532 non-null float64\n",
      "p3_dog      1532 non-null bool\n",
      "dtypes: bool(3), float64(3), int64(1), object(4)\n",
      "memory usage: 112.2+ KB\n"
     ]
    }
   ],
   "source": [
    "i_predictions_copy.info()"
   ]
  },
  {
   "cell_type": "markdown",
   "metadata": {},
   "source": [
    "**Tidying item 2:Joining data**"
   ]
  },
  {
   "cell_type": "code",
   "execution_count": 43,
   "metadata": {},
   "outputs": [],
   "source": [
    "df_copy['created_at'],df_copy['favorite_count'],df_copy['favorited'],df_copy['is_quote_status'],df_copy['lang']= [\"\",\"\",\"\",\"\",\"\"]\n",
    "df_copy['possibly_sensitive'],df_copy['possibly_sensitive_appealable'],df_copy['retweet_count'], df_copy['truncated']= [\"\",\"\",\"\",\"\"]\n",
    "df_copy['jpg_url'],df_copy['p1'],df_copy['p1_conf'],df_copy['p1_dog']= [\"\",\"\",\"\",\"\"]\n",
    "df_copy['p2'],df_copy['p2_conf'],df_copy['p2_dog'],df_copy['p3'],df_copy['p3_conf'],df_copy['p3_dog']= [\"\",\"\",\"\",\"\",\"\",\"\"]"
   ]
  },
  {
   "cell_type": "code",
   "execution_count": 44,
   "metadata": {},
   "outputs": [
    {
     "data": {
      "text/html": [
       "<div>\n",
       "<style scoped>\n",
       "    .dataframe tbody tr th:only-of-type {\n",
       "        vertical-align: middle;\n",
       "    }\n",
       "\n",
       "    .dataframe tbody tr th {\n",
       "        vertical-align: top;\n",
       "    }\n",
       "\n",
       "    .dataframe thead th {\n",
       "        text-align: right;\n",
       "    }\n",
       "</style>\n",
       "<table border=\"1\" class=\"dataframe\">\n",
       "  <thead>\n",
       "    <tr style=\"text-align: right;\">\n",
       "      <th></th>\n",
       "      <th>tweet_id</th>\n",
       "      <th>timestamp</th>\n",
       "      <th>source</th>\n",
       "      <th>text</th>\n",
       "      <th>expanded_urls</th>\n",
       "      <th>rating_numerator</th>\n",
       "      <th>rating_denominator</th>\n",
       "      <th>name</th>\n",
       "      <th>doggo</th>\n",
       "      <th>floofer</th>\n",
       "      <th>...</th>\n",
       "      <th>jpg_url</th>\n",
       "      <th>p1</th>\n",
       "      <th>p1_conf</th>\n",
       "      <th>p1_dog</th>\n",
       "      <th>p2</th>\n",
       "      <th>p2_conf</th>\n",
       "      <th>p2_dog</th>\n",
       "      <th>p3</th>\n",
       "      <th>p3_conf</th>\n",
       "      <th>p3_dog</th>\n",
       "    </tr>\n",
       "  </thead>\n",
       "  <tbody>\n",
       "    <tr>\n",
       "      <th>0</th>\n",
       "      <td>892420643555336193</td>\n",
       "      <td>2017-08-01 16:23:56 +0000</td>\n",
       "      <td>&lt;a href=\"http://twitter.com/download/iphone\" r...</td>\n",
       "      <td>This is Phineas. He's a mystical boy. Only eve...</td>\n",
       "      <td>https://twitter.com/dog_rates/status/892420643...</td>\n",
       "      <td>13</td>\n",
       "      <td>10</td>\n",
       "      <td>Phineas</td>\n",
       "      <td>None</td>\n",
       "      <td>None</td>\n",
       "      <td>...</td>\n",
       "      <td></td>\n",
       "      <td></td>\n",
       "      <td></td>\n",
       "      <td></td>\n",
       "      <td></td>\n",
       "      <td></td>\n",
       "      <td></td>\n",
       "      <td></td>\n",
       "      <td></td>\n",
       "      <td></td>\n",
       "    </tr>\n",
       "    <tr>\n",
       "      <th>1</th>\n",
       "      <td>892177421306343426</td>\n",
       "      <td>2017-08-01 00:17:27 +0000</td>\n",
       "      <td>&lt;a href=\"http://twitter.com/download/iphone\" r...</td>\n",
       "      <td>This is Tilly. She's just checking pup on you....</td>\n",
       "      <td>https://twitter.com/dog_rates/status/892177421...</td>\n",
       "      <td>13</td>\n",
       "      <td>10</td>\n",
       "      <td>Tilly</td>\n",
       "      <td>None</td>\n",
       "      <td>None</td>\n",
       "      <td>...</td>\n",
       "      <td></td>\n",
       "      <td></td>\n",
       "      <td></td>\n",
       "      <td></td>\n",
       "      <td></td>\n",
       "      <td></td>\n",
       "      <td></td>\n",
       "      <td></td>\n",
       "      <td></td>\n",
       "      <td></td>\n",
       "    </tr>\n",
       "  </tbody>\n",
       "</table>\n",
       "<p>2 rows × 31 columns</p>\n",
       "</div>"
      ],
      "text/plain": [
       "             tweet_id                  timestamp  \\\n",
       "0  892420643555336193  2017-08-01 16:23:56 +0000   \n",
       "1  892177421306343426  2017-08-01 00:17:27 +0000   \n",
       "\n",
       "                                              source  \\\n",
       "0  <a href=\"http://twitter.com/download/iphone\" r...   \n",
       "1  <a href=\"http://twitter.com/download/iphone\" r...   \n",
       "\n",
       "                                                text  \\\n",
       "0  This is Phineas. He's a mystical boy. Only eve...   \n",
       "1  This is Tilly. She's just checking pup on you....   \n",
       "\n",
       "                                       expanded_urls  rating_numerator  \\\n",
       "0  https://twitter.com/dog_rates/status/892420643...                13   \n",
       "1  https://twitter.com/dog_rates/status/892177421...                13   \n",
       "\n",
       "   rating_denominator     name doggo floofer  ...   jpg_url p1 p1_conf p1_dog  \\\n",
       "0                  10  Phineas  None    None  ...                               \n",
       "1                  10    Tilly  None    None  ...                               \n",
       "\n",
       "  p2 p2_conf p2_dog p3 p3_conf p3_dog  \n",
       "0                                      \n",
       "1                                      \n",
       "\n",
       "[2 rows x 31 columns]"
      ]
     },
     "execution_count": 44,
     "metadata": {},
     "output_type": "execute_result"
    }
   ],
   "source": [
    "df_copy.head(2)"
   ]
  },
  {
   "cell_type": "code",
   "execution_count": 45,
   "metadata": {
    "scrolled": true
   },
   "outputs": [
    {
     "name": "stdout",
     "output_type": "stream",
     "text": [
      "<class 'pandas.core.frame.DataFrame'>\n",
      "Int64Index: 2175 entries, 0 to 2355\n",
      "Data columns (total 31 columns):\n",
      "tweet_id                         2175 non-null object\n",
      "timestamp                        2175 non-null object\n",
      "source                           2175 non-null object\n",
      "text                             2175 non-null object\n",
      "expanded_urls                    2117 non-null object\n",
      "rating_numerator                 2175 non-null int64\n",
      "rating_denominator               2175 non-null int64\n",
      "name                             2175 non-null object\n",
      "doggo                            2175 non-null object\n",
      "floofer                          2175 non-null object\n",
      "pupper                           2175 non-null object\n",
      "puppo                            2175 non-null object\n",
      "created_at                       2175 non-null object\n",
      "favorite_count                   2175 non-null object\n",
      "favorited                        2175 non-null object\n",
      "is_quote_status                  2175 non-null object\n",
      "lang                             2175 non-null object\n",
      "possibly_sensitive               2175 non-null object\n",
      "possibly_sensitive_appealable    2175 non-null object\n",
      "retweet_count                    2175 non-null object\n",
      "truncated                        2175 non-null object\n",
      "jpg_url                          2175 non-null object\n",
      "p1                               2175 non-null object\n",
      "p1_conf                          2175 non-null object\n",
      "p1_dog                           2175 non-null object\n",
      "p2                               2175 non-null object\n",
      "p2_conf                          2175 non-null object\n",
      "p2_dog                           2175 non-null object\n",
      "p3                               2175 non-null object\n",
      "p3_conf                          2175 non-null object\n",
      "p3_dog                           2175 non-null object\n",
      "dtypes: int64(2), object(29)\n",
      "memory usage: 543.8+ KB\n"
     ]
    }
   ],
   "source": [
    "df_copy.info()"
   ]
  },
  {
   "cell_type": "code",
   "execution_count": 46,
   "metadata": {},
   "outputs": [
    {
     "data": {
      "text/plain": [
       "(2175, 31)"
      ]
     },
     "execution_count": 46,
     "metadata": {},
     "output_type": "execute_result"
    }
   ],
   "source": [
    "df_copy = df_copy.reset_index(drop=True)\n",
    "df_copy.shape"
   ]
  },
  {
   "cell_type": "code",
   "execution_count": 47,
   "metadata": {},
   "outputs": [
    {
     "name": "stdout",
     "output_type": "stream",
     "text": [
      "890971913173991426\n",
      "890609185150312448\n",
      "888804989199671297\n",
      "888554962724278272\n",
      "887517139158093824\n",
      "887473957103951883\n",
      "886983233522544640\n",
      "886267009285017600\n",
      "885528943205470208\n",
      "883838122936631299\n",
      "883360690899218434\n",
      "882268110199369728\n",
      "882045870035918850\n",
      "881906580714921986\n",
      "881666595344535552\n",
      "881268444196462592\n",
      "879008229531029506\n",
      "877556246731214848\n",
      "875097192612077568\n",
      "874012996292530176\n",
      "873580283840344065\n",
      "873213775632977920\n",
      "872820683541237760\n",
      "872486979161796608\n",
      "872261713294495745\n",
      "871762521631449091\n",
      "871102520638267392\n",
      "871032628920680449\n",
      "870804317367881728\n",
      "870308999962521604\n",
      "870063196459192321\n",
      "869702957897576449\n",
      "869227993411051520\n",
      "868880397819494401\n",
      "867774946302451713\n",
      "867051520902168576\n",
      "866334964761202691\n",
      "865718153858494464\n",
      "865359393868664832\n",
      "863427515083354112\n",
      "863079547188785154\n",
      "862831371563274240\n",
      "861288531465048066\n",
      "861005113778896900\n",
      "859074603037188101\n",
      "858471635011153920\n",
      "858107933456039936\n",
      "857989990357356544\n",
      "857393404942143489\n",
      "857263160327368704\n",
      "857029823797047296\n",
      "856282028240666624\n",
      "855857698524602368\n",
      "855851453814013952\n",
      "853760880890318849\n",
      "853299958564483072\n",
      "852672615818899456\n",
      "852553447878664193\n",
      "852226086759018497\n",
      "851591660324737024\n",
      "850380195714523136\n",
      "850333567704068097\n",
      "850019790995546112\n",
      "849776966551130114\n",
      "849412302885593088\n",
      "849051919805034497\n",
      "848324959059550208\n",
      "847617282490613760\n",
      "847116187444137987\n",
      "846514051647705089\n",
      "846505985330044928\n",
      "846139713627017216\n",
      "845812042753855489\n",
      "845677943972139009\n",
      "845397057150107648\n",
      "844979544864018432\n",
      "844973813909606400\n",
      "844704788403113984\n",
      "844580511645339650\n",
      "844223788422217728\n",
      "843981021012017153\n",
      "843856843873095681\n",
      "842163532590374912\n",
      "842115215311396866\n",
      "841077006473256960\n",
      "840698636975636481\n",
      "838952994649550848\n",
      "838476387338051585\n",
      "838083903487373313\n",
      "837471256429613056\n",
      "836753516572119041\n",
      "836677758902222849\n",
      "836260088725786625\n",
      "835574547218894849\n",
      "835264098648616962\n",
      "835246439529840640\n",
      "835152434251116546\n",
      "834209720923721728\n",
      "834089966724603904\n",
      "834086379323871233\n",
      "833479644947025920\n",
      "833124694597443584\n",
      "832757312314028032\n",
      "832645525019123713\n",
      "832636094638288896\n",
      "832397543355072512\n",
      "831911600680497154\n",
      "831650051525054464\n",
      "831262627380748289\n",
      "829141528400556032\n",
      "829011960981237760\n",
      "828650029636317184\n",
      "828409743546925057\n",
      "828376505180889089\n",
      "828046555563323392\n",
      "828011680017821696\n",
      "827933404142436356\n",
      "827324948884643840\n",
      "826958653328592898\n",
      "826848821049180160\n",
      "826476773533745153\n",
      "825147591692263424\n",
      "825026590719483904\n",
      "824297048279236611\n",
      "824025158776213504\n",
      "823581115634085888\n",
      "822610361945911296\n",
      "821522889702862852\n",
      "821153421864615936\n",
      "820078625395449857\n",
      "819588359383371776\n",
      "819006400881917954\n",
      "819004803107983360\n",
      "818614493328580609\n",
      "818145370475810820\n",
      "817827839487737858\n",
      "817536400337801217\n",
      "817171292965273600\n",
      "817056546584727552\n",
      "816816676327063552\n",
      "814986499976527872\n",
      "814638523311648768\n",
      "814530161257443328\n",
      "813910438903693312\n",
      "813812741911748608\n",
      "813202720496779264\n",
      "813142292504645637\n",
      "813112105746448384\n",
      "812709060537683968\n",
      "810896069567610880\n",
      "808838249661788160\n",
      "808733504066486276\n",
      "808344865868283904\n",
      "807010152071229440\n",
      "806576416489959424\n",
      "806542213899489280\n",
      "806219024703037440\n",
      "805932879469572096\n",
      "805520635690676224\n",
      "805207613751304193\n",
      "804475857670639616\n",
      "803638050916102144\n",
      "802952499103731712\n",
      "802265048156610565\n",
      "801854953262350336\n",
      "801115127852503040\n",
      "799063482566066176\n",
      "798933969379225600\n",
      "797545162159308800\n",
      "797165961484890113\n",
      "796759840936919040\n",
      "796149749086875649\n",
      "796116448414461957\n",
      "796031486298386433\n",
      "795464331001561088\n",
      "794332329137291264\n",
      "793962221541933056\n",
      "793845145112371200\n",
      "793271401113350145\n",
      "793241302385262592\n",
      "793135492858580992\n",
      "792773781206999040\n",
      "791774931465953280\n",
      "790987426131050500\n",
      "790581949425475584\n",
      "790277117346975746\n",
      "789986466051088384\n",
      "789903600034189313\n",
      "789530877013393408\n",
      "789137962068021249\n",
      "788765914992902144\n",
      "788178268662984705\n",
      "786363235746385920\n",
      "785533386513321988\n",
      "784183165795655680\n",
      "783821107061198850\n",
      "783466772167098368\n",
      "783334639985389568\n",
      "782969140009107456\n",
      "781955203444699136\n",
      "781661882474196992\n",
      "781308096455073793\n",
      "780858289093574656\n",
      "779377524342161408\n",
      "779056095788752897\n",
      "778748913645780993\n",
      "778408200802557953\n",
      "777621514455814149\n",
      "777189768882946048\n",
      "776113305656188928\n",
      "774757898236878852\n",
      "773985732834758656\n",
      "773704687002451968\n",
      "773247561583001600\n",
      "772581559778025472\n",
      "772102971039580160\n",
      "771908950375665664\n",
      "771380798096281600\n",
      "771102124360998913\n",
      "770069151037685760\n",
      "768970937022709760\n",
      "767500508068192258\n",
      "766693177336135680\n",
      "766423258543644672\n",
      "766008592277377025\n",
      "765395769549590528\n",
      "764259802650378240\n",
      "763956972077010945\n",
      "763837565564780549\n",
      "761334018830917632\n",
      "761292947749015552\n",
      "760656994973933572\n",
      "760252756032651264\n",
      "760190180481531904\n",
      "759923798737051648\n",
      "758041019896193024\n",
      "757400162377592832\n",
      "756303284449767430\n",
      "756275833623502848\n",
      "755206590534418437\n",
      "755110668769038337\n",
      "754747087846248448\n",
      "754120377874386944\n",
      "754011816964026368\n",
      "752519690950500352\n",
      "752334515931054080\n",
      "752173152931807232\n",
      "751830394383790080\n",
      "751583847268179968\n",
      "751205363882532864\n",
      "751132876104687617\n",
      "750429297815552001\n",
      "750383411068534784\n",
      "750086836815486976\n",
      "749996283729883136\n",
      "748932637671223296\n",
      "748705597323898880\n",
      "748692773788876800\n",
      "747885874273214464\n",
      "747816857231626240\n",
      "747594051852075008\n",
      "747204161125646336\n",
      "746818907684614144\n",
      "745057283344719872\n",
      "744334592493166593\n",
      "743595368194129920\n",
      "743253157753532416\n",
      "743210557239623680\n",
      "742534281772302336\n",
      "742528092657332225\n",
      "742423170473463808\n",
      "742385895052087300\n",
      "742161199639494656\n",
      "741793263812808706\n",
      "741438259667034112\n",
      "740995100998766593\n",
      "739623569819336705\n",
      "739485634323156992\n",
      "738883359779196928\n",
      "736365877722001409\n",
      "735648611367784448\n",
      "735635087207878657\n",
      "733828123016450049\n",
      "733482008106668032\n",
      "732726085725589504\n",
      "730211855403241472\n",
      "729854734790754305\n",
      "729823566028484608\n",
      "727685679342333952\n",
      "727524757080539137\n",
      "726887082820554753\n",
      "725842289046749185\n",
      "725786712245440512\n",
      "724771698126512129\n",
      "724046343203856385\n",
      "724004602748780546\n",
      "723912936180330496\n",
      "722974582966214656\n",
      "722613351520608256\n",
      "720785406564900865\n",
      "720389942216527872\n",
      "718939241951195136\n",
      "718246886998687744\n",
      "717841801130979328\n",
      "717790033953034240\n",
      "716285507865542656\n",
      "715220193576927233\n",
      "715009755312439296\n",
      "714982300363173890\n",
      "714214115368108032\n",
      "714141408463036416\n",
      "713900603437621249\n",
      "713761197720473600\n",
      "712809025985978368\n",
      "712717840512598017\n",
      "712668654853337088\n",
      "711732680602345472\n",
      "711652651650457602\n",
      "711363825979756544\n",
      "710588934686908417\n",
      "710283270106132480\n",
      "710269109699739648\n",
      "710140971284037632\n",
      "709409458133323776\n",
      "709179584944730112\n",
      "709158332880297985\n",
      "708853462201716736\n",
      "708810915978854401\n",
      "708349470027751425\n",
      "708130923141795840\n",
      "707610948723478529\n",
      "706681918348251136\n",
      "706593038911545345\n",
      "706538006853918722\n",
      "706166467411222528\n",
      "705786532653883392\n",
      "705591895322394625\n",
      "705239209544720384\n",
      "705066031337840642\n",
      "704859558691414016\n",
      "704480331685040129\n",
      "704364645503647744\n",
      "704347321748819968\n",
      "704113298707505153\n",
      "704054845121142784\n",
      "703774238772166656\n",
      "703769065844768768\n",
      "703268521220972544\n",
      "702276748847800320\n",
      "702217446468493312\n",
      "701889187134500865\n",
      "701545186879471618\n",
      "700864154249383937\n",
      "700796979434098688\n",
      "700747788515020802\n",
      "700462010979500032\n",
      "700167517596164096\n",
      "700029284593901568\n",
      "698989035503689728\n",
      "698710712454139905\n",
      "698703483621523456\n",
      "697630435728322560\n",
      "697616773278015490\n",
      "697516214579523584\n",
      "697482927769255936\n",
      "697270446429966336\n",
      "696488710901260288\n",
      "696100768806522880\n",
      "695816827381944320\n",
      "695409464418041856\n",
      "694925794720792577\n",
      "694905863685980160\n",
      "694352839993344000\n",
      "694342028726001664\n",
      "693280720173801472\n",
      "692905862751522816\n",
      "692187005137076224\n",
      "692041934689402880\n",
      "691820333922455552\n",
      "691444869282295808\n",
      "690932576555528194\n",
      "690649993829576704\n",
      "690607260360429569\n",
      "690400367696297985\n",
      "690360449368465409\n",
      "689977555533848577\n",
      "689661964914655233\n",
      "689289219123089408\n",
      "689143371370250240\n",
      "688898160958271489\n",
      "688828561667567616\n",
      "688804835492233216\n",
      "687841446767013888\n",
      "687826841265172480\n",
      "687807801670897665\n",
      "687480748861947905\n",
      "686947101016735744\n",
      "686730991906516992\n",
      "686618349602762752\n",
      "685532292383666176\n",
      "684940049151070208\n",
      "684902183876321280\n",
      "684880619965411328\n",
      "684567543613382656\n",
      "684222868335505415\n",
      "684147889187209216\n",
      "683852578183077888\n",
      "683773439333797890\n",
      "683357973142474752\n",
      "683111407806746624\n",
      "682750546109968385\n",
      "681891461017812993\n",
      "681694085539872773\n",
      "681339448655802368\n",
      "681297372102656000\n",
      "681281657291280384\n",
      "680805554198020098\n",
      "680440374763077632\n",
      "680191257256136705\n",
      "680100725817409536\n",
      "680055455951884288\n",
      "679854723806179328\n",
      "679729593985699840\n",
      "679722016581222400\n",
      "679475951516934144\n",
      "679462823135686656\n",
      "679158373988876288\n",
      "678424312106393600\n",
      "678399652199309312\n",
      "678396796259975168\n",
      "678341075375947776\n",
      "678023323247357953\n",
      "677716515794329600\n",
      "677700003327029250\n",
      "677331501395156992\n",
      "677228873407442944\n",
      "676975532580409345\n",
      "676957860086095872\n",
      "676237365392908289\n",
      "676098748976615425\n",
      "676089483918516224\n",
      "675888385639251968\n",
      "675870721063669760\n",
      "675853064436391936\n",
      "675845657354215424\n",
      "675740360753160193\n",
      "675710890956750848\n",
      "675707330206547968\n",
      "675706639471788032\n",
      "675534494439489536\n",
      "675501075957489664\n",
      "675372240448454658\n",
      "675349384339542016\n",
      "675334060156301312\n",
      "675149409102012420\n",
      "675146535592706048\n",
      "675113801096802304\n",
      "675109292475830276\n",
      "675003128568291329\n",
      "674781762103414784\n",
      "674764817387900928\n",
      "674664755118911488\n",
      "674606911342424069\n",
      "674468880899788800\n",
      "674416750885273600\n",
      "674410619106390016\n",
      "674318007229923329\n",
      "674271431610523648\n",
      "674269164442398721\n",
      "674262580978937856\n",
      "674082852460433408\n",
      "674075285688614912\n",
      "674063288070742018\n",
      "674042553264685056\n",
      "673688752737402881\n",
      "673686845050527744\n",
      "673636718965334016\n",
      "673612854080196609\n",
      "673576835670777856\n",
      "673359818736984064\n",
      "673352124999274496\n",
      "673345638550134785\n",
      "673240798075449344\n",
      "672997845381865473\n",
      "672828477930868736\n",
      "672604026190569472\n",
      "672538107540070400\n",
      "672475084225949696\n",
      "672245253877968896\n",
      "671768281401958400\n",
      "671763349865160704\n",
      "671544874165002241\n",
      "671542985629241344\n",
      "671528761649688577\n",
      "671151324042559489\n",
      "671115716440031232\n",
      "670786190031921152\n",
      "670780561024270336\n",
      "670778058496974848\n",
      "670764103623966721\n",
      "670755717859713024\n",
      "670733412878163972\n",
      "670727704916926465\n",
      "670717338665226240\n",
      "670704688707301377\n",
      "670691627984359425\n",
      "670679630144274432\n",
      "670676092097810432\n",
      "670668383499735048\n",
      "670474236058800128\n",
      "670468609693655041\n",
      "670465786746662913\n",
      "670452855871037440\n",
      "670449342516494336\n",
      "670444955656130560\n",
      "670442337873600512\n",
      "670435821946826752\n",
      "670434127938719744\n",
      "670433248821026816\n",
      "670428280563085312\n",
      "670427002554466305\n",
      "670421925039075328\n",
      "670420569653809152\n",
      "670417414769758208\n",
      "670411370698022913\n",
      "670408998013820928\n",
      "670403879788544000\n",
      "670385711116361728\n",
      "670374371102445568\n",
      "670361874861563904\n",
      "670338931251150849\n",
      "670319130621435904\n",
      "670303360680108032\n",
      "670290420111441920\n",
      "670093938074779648\n",
      "670086499208155136\n",
      "670079681849372674\n",
      "670073503555706880\n",
      "670069087419133954\n",
      "670061506722140161\n",
      "670055038660800512\n",
      "670046952931721218\n",
      "670040295598354432\n",
      "670037189829525505\n",
      "670003130994700288\n",
      "669993076832759809\n",
      "669972011175813120\n",
      "669970042633789440\n",
      "669942763794931712\n",
      "669926384437997569\n",
      "669923323644657664\n",
      "669753178989142016\n",
      "669749430875258880\n",
      "669684865554620416\n",
      "669683899023405056\n",
      "669682095984410625\n",
      "669680153564442624\n",
      "669661792646373376\n",
      "669625907762618368\n",
      "669603084620980224\n",
      "669597912108789760\n",
      "669583744538451968\n",
      "669573570759163904\n",
      "669571471778410496\n",
      "669567591774625800\n",
      "669564461267722241\n",
      "669393256313184256\n",
      "669375718304980992\n",
      "669371483794317312\n",
      "669367896104181761\n",
      "669363888236994561\n",
      "669359674819481600\n",
      "669354382627049472\n",
      "669353438988365824\n",
      "669351434509529089\n",
      "669328503091937280\n",
      "669327207240699904\n",
      "669324657376567296\n",
      "669216679721873412\n",
      "669214165781868544\n",
      "669203728096960512\n",
      "669037058363662336\n",
      "669015743032369152\n",
      "669006782128353280\n",
      "669000397445533696\n",
      "668994913074286592\n",
      "668992363537309700\n",
      "668989615043424256\n",
      "668988183816871936\n",
      "668986018524233728\n",
      "668981893510119424\n",
      "668979806671884288\n",
      "668975677807423489\n",
      "668967877119254528\n",
      "668960084974809088\n",
      "668955713004314625\n",
      "668932921458302977\n",
      "668902994700836864\n",
      "668892474547511297\n",
      "668872652652679168\n",
      "668852170888998912\n",
      "668826086256599040\n",
      "668815180734689280\n",
      "668779399630725120\n",
      "668655139528511488\n",
      "668645506898350081\n",
      "668643542311546881\n",
      "668641109086707712\n",
      "668636665813057536\n",
      "668633411083464705\n",
      "668631377374486528\n",
      "668627278264475648\n",
      "668625577880875008\n",
      "668623201287675904\n",
      "668620235289837568\n",
      "668614819948453888\n",
      "668587383441514497\n",
      "668567822092664832\n",
      "668544745690562560\n",
      "668542336805281792\n",
      "668537837512433665\n",
      "668528771708952576\n",
      "668507509523615744\n",
      "668496999348633600\n",
      "668484198282485761\n",
      "668480044826800133\n",
      "668466899341221888\n",
      "668297328638447616\n",
      "668291999406125056\n",
      "668286279830867968\n",
      "668274247790391296\n",
      "668268907921326080\n",
      "668256321989451776\n",
      "668248472370458624\n",
      "668237644992782336\n",
      "668226093875376128\n",
      "668221241640230912\n",
      "668204964695683073\n",
      "668190681446379520\n",
      "668171859951755264\n",
      "668154635664932864\n",
      "668142349051129856\n",
      "668113020489474048\n",
      "667937095915278337\n",
      "667924896115245057\n",
      "667915453470232577\n",
      "667911425562669056\n",
      "667902449697558528\n",
      "667886921285246976\n",
      "667885044254572545\n",
      "667878741721415682\n",
      "667873844930215936\n",
      "667866724293877760\n",
      "667861340749471744\n",
      "667832474953625600\n",
      "667806454573760512\n",
      "667801013445750784\n",
      "667793409583771648\n",
      "667782464991965184\n",
      "667773195014021121\n",
      "667766675769573376\n",
      "667728196545200128\n",
      "667724302356258817\n",
      "667549055577362432\n",
      "667546741521195010\n",
      "667544320556335104\n",
      "667538891197542400\n",
      "667534815156183040\n",
      "667530908589760512\n",
      "667524857454854144\n",
      "667517642048163840\n",
      "667509364010450944\n",
      "667502640335572993\n",
      "667495797102141441\n",
      "667491009379606528\n",
      "667470559035432960\n",
      "667455448082227200\n",
      "667453023279554560\n",
      "667443425659232256\n",
      "667437278097252352\n",
      "667435689202614272\n",
      "667405339315146752\n",
      "667393430834667520\n",
      "667369227918143488\n",
      "667211855547486208\n",
      "667200525029539841\n",
      "667192066997374976\n",
      "667188689915760640\n",
      "667182792070062081\n",
      "667177989038297088\n",
      "667176164155375616\n",
      "667174963120574464\n",
      "667171260800061440\n",
      "667165590075940865\n",
      "667160273090932737\n",
      "667152164079423490\n",
      "667138269671505920\n",
      "667119796878725120\n",
      "667090893657276420\n",
      "667073648344346624\n",
      "667070482143944705\n",
      "667065535570550784\n",
      "667062181243039745\n",
      "667044094246576128\n",
      "667012601033924608\n",
      "666996132027977728\n",
      "666983947667116034\n",
      "666837028449972224\n",
      "666835007768551424\n",
      "666826780179869698\n",
      "666817836334096384\n",
      "666804364988780544\n",
      "666786068205871104\n",
      "666781792255496192\n",
      "666776908487630848\n",
      "666739327293083650\n",
      "666701168228331520\n",
      "666691418707132416\n",
      "666649482315059201\n",
      "666644823164719104\n",
      "666454714377183233\n",
      "666447344410484738\n",
      "666437273139982337\n",
      "666435652385423360\n",
      "666430724426358785\n",
      "666428276349472768\n",
      "666421158376562688\n",
      "666418789513326592\n",
      "666411507551481857\n",
      "666407126856765440\n",
      "666396247373291520\n",
      "666373753744588802\n",
      "666362758909284353\n",
      "666353288456101888\n",
      "666345417576210432\n",
      "666337882303524864\n",
      "666293911632134144\n",
      "666287406224695296\n",
      "666273097616637952\n",
      "666268910803644416\n",
      "666104133288665088\n",
      "666102155909144576\n",
      "666099513787052032\n",
      "666094000022159362\n",
      "666082916733198337\n",
      "666073100786774016\n",
      "666071193221509120\n",
      "666063827256086533\n",
      "666058600524156928\n",
      "666057090499244032\n",
      "666055525042405380\n",
      "666051853826850816\n",
      "666050758794694657\n",
      "666049248165822465\n",
      "666044226329800704\n",
      "666033412701032449\n",
      "666029285002620928\n",
      "666020888022790149\n"
     ]
    }
   ],
   "source": [
    "missing_id = []\n",
    "missing_id_index = []\n",
    "for i in range(len(df_copy['tweet_id'])):\n",
    "    try:\n",
    "        y=twitter_additional_archive_copy.loc[twitter_additional_archive_copy['id'] == df_copy.tweet_id[i]].index\n",
    "        df_copy.iloc[i,12]= twitter_additional_archive_copy.created_at[y[0]]\n",
    "        df_copy.iloc[i,13]= twitter_additional_archive_copy.favorite_count[y[0]]\n",
    "        df_copy.iloc[i,14]= twitter_additional_archive_copy.favorited[y[0]]\n",
    "        df_copy.iloc[i,15]= twitter_additional_archive_copy.is_quote_status[y[0]]\n",
    "        df_copy.iloc[i,16]= twitter_additional_archive_copy.lang[y[0]]\n",
    "        df_copy.iloc[i,17]= twitter_additional_archive_copy.possibly_sensitive[y[0]]\n",
    "        df_copy.iloc[i,18]= twitter_additional_archive_copy.possibly_sensitive_appealable[y[0]]\n",
    "        df_copy.iloc[i,19]= twitter_additional_archive_copy.retweet_count[y[0]]\n",
    "        df_copy.iloc[i,20]= twitter_additional_archive_copy.truncated[y[0]]\n",
    "        \n",
    "        df_copy.iloc[i,21]= i_predictions_copy.jpg_url[y[0]]\n",
    "        df_copy.iloc[i,22]= i_predictions_copy.p1[y[0]]\n",
    "        df_copy.iloc[i,23]= i_predictions_copy.p1_conf[y[0]]\n",
    "        df_copy.iloc[i,24]= i_predictions_copy.p1_dog[y[0]]\n",
    "        df_copy.iloc[i,25]= i_predictions_copy.p2[y[0]]\n",
    "        df_copy.iloc[i,26]= i_predictions_copy.p2_conf[y[0]]\n",
    "        df_copy.iloc[i,27]= i_predictions_copy.p2_dog[y[0]]\n",
    "        df_copy.iloc[i,28]= i_predictions_copy.p3[y[0]]\n",
    "        df_copy.iloc[i,29]= i_predictions_copy.p3_conf[y[0]]\n",
    "        df_copy.iloc[i,30]= i_predictions_copy.p3_dog[y[0]]\n",
    "    except:\n",
    "        missing_id.append(df_copy.tweet_id[i])\n",
    "        missing_id_index.append(i)\n",
    "        print(df_copy.tweet_id[i])"
   ]
  },
  {
   "cell_type": "code",
   "execution_count": 48,
   "metadata": {},
   "outputs": [],
   "source": [
    "df_copy=df_copy.drop(missing_id_index, axis=0) "
   ]
  },
  {
   "cell_type": "code",
   "execution_count": 49,
   "metadata": {},
   "outputs": [],
   "source": [
    "#reindex\n",
    "df_copy = df_copy.reset_index(drop=True)"
   ]
  },
  {
   "cell_type": "code",
   "execution_count": 50,
   "metadata": {},
   "outputs": [],
   "source": [
    "df_copy['favorite_count'] = df_copy['favorite_count'].astype(int)\n",
    "df_copy['favorited'] = df_copy['favorited'].astype('bool')\n",
    "df_copy['is_quote_status'] = df_copy['is_quote_status'].astype('bool')\n",
    "df_copy['possibly_sensitive'] = df_copy['possibly_sensitive'].astype(float)\n",
    "df_copy['possibly_sensitive_appealable'] = df_copy['possibly_sensitive_appealable'].astype('float')\n",
    "df_copy['retweet_count'] = df_copy['retweet_count'].astype(int)\n",
    "df_copy['truncated'] = df_copy['truncated'].astype('bool')\n",
    "\n",
    "df_copy['p1_conf'] = df_copy['p1_conf'].astype(float)\n",
    "df_copy['p1_dog'] = df_copy['p1_dog'].astype('bool')\n",
    "df_copy['p2_conf'] = df_copy['p2_conf'].astype(float)\n",
    "df_copy['p2_dog'] = df_copy['p2_dog'].astype('bool')\n",
    "df_copy['p3_conf'] = df_copy['p3_conf'].astype(float)\n",
    "df_copy['p3_dog'] = df_copy['p3_dog'].astype('bool')"
   ]
  },
  {
   "cell_type": "markdown",
   "metadata": {},
   "source": [
    "# Storing, Analyzing, and Visualizing"
   ]
  },
  {
   "cell_type": "markdown",
   "metadata": {},
   "source": [
    "## **Storing**"
   ]
  },
  {
   "cell_type": "code",
   "execution_count": 51,
   "metadata": {
    "scrolled": true
   },
   "outputs": [
    {
     "name": "stdout",
     "output_type": "stream",
     "text": [
      "<class 'pandas.core.frame.DataFrame'>\n",
      "RangeIndex: 1417 entries, 0 to 1416\n",
      "Data columns (total 31 columns):\n",
      "tweet_id                         1417 non-null object\n",
      "timestamp                        1417 non-null object\n",
      "source                           1417 non-null object\n",
      "text                             1417 non-null object\n",
      "expanded_urls                    1375 non-null object\n",
      "rating_numerator                 1417 non-null int64\n",
      "rating_denominator               1417 non-null int64\n",
      "name                             1417 non-null object\n",
      "doggo                            1417 non-null object\n",
      "floofer                          1417 non-null object\n",
      "pupper                           1417 non-null object\n",
      "puppo                            1417 non-null object\n",
      "created_at                       1417 non-null object\n",
      "favorite_count                   1417 non-null int64\n",
      "favorited                        1417 non-null bool\n",
      "is_quote_status                  1417 non-null bool\n",
      "lang                             1417 non-null object\n",
      "possibly_sensitive               1375 non-null float64\n",
      "possibly_sensitive_appealable    1375 non-null float64\n",
      "retweet_count                    1417 non-null int64\n",
      "truncated                        1417 non-null bool\n",
      "jpg_url                          1417 non-null object\n",
      "p1                               1417 non-null object\n",
      "p1_conf                          1417 non-null float64\n",
      "p1_dog                           1417 non-null bool\n",
      "p2                               1417 non-null object\n",
      "p2_conf                          1417 non-null float64\n",
      "p2_dog                           1417 non-null bool\n",
      "p3                               1417 non-null object\n",
      "p3_conf                          1417 non-null float64\n",
      "p3_dog                           1417 non-null bool\n",
      "dtypes: bool(6), float64(5), int64(4), object(16)\n",
      "memory usage: 285.1+ KB\n"
     ]
    }
   ],
   "source": [
    "df_copy.info()"
   ]
  },
  {
   "cell_type": "code",
   "execution_count": 52,
   "metadata": {},
   "outputs": [],
   "source": [
    "import numpy\n",
    "df_copy.to_csv(\"twitter_archive_master.csv\", sep=',')"
   ]
  },
  {
   "cell_type": "markdown",
   "metadata": {},
   "source": [
    "## **Analyzing, and Visualizing**"
   ]
  },
  {
   "cell_type": "markdown",
   "metadata": {},
   "source": [
    "### **Insight 1**"
   ]
  },
  {
   "cell_type": "code",
   "execution_count": 53,
   "metadata": {},
   "outputs": [
    {
     "data": {
      "text/html": [
       "<div>\n",
       "<style scoped>\n",
       "    .dataframe tbody tr th:only-of-type {\n",
       "        vertical-align: middle;\n",
       "    }\n",
       "\n",
       "    .dataframe tbody tr th {\n",
       "        vertical-align: top;\n",
       "    }\n",
       "\n",
       "    .dataframe thead th {\n",
       "        text-align: right;\n",
       "    }\n",
       "</style>\n",
       "<table border=\"1\" class=\"dataframe\">\n",
       "  <thead>\n",
       "    <tr style=\"text-align: right;\">\n",
       "      <th></th>\n",
       "      <th>tweet_id</th>\n",
       "      <th>in_reply_to_status_id</th>\n",
       "      <th>in_reply_to_user_id</th>\n",
       "      <th>timestamp</th>\n",
       "      <th>source</th>\n",
       "      <th>text</th>\n",
       "      <th>retweeted_status_id</th>\n",
       "      <th>retweeted_status_user_id</th>\n",
       "      <th>retweeted_status_timestamp</th>\n",
       "      <th>expanded_urls</th>\n",
       "      <th>rating_numerator</th>\n",
       "      <th>rating_denominator</th>\n",
       "      <th>name</th>\n",
       "      <th>doggo</th>\n",
       "      <th>floofer</th>\n",
       "      <th>pupper</th>\n",
       "      <th>puppo</th>\n",
       "    </tr>\n",
       "  </thead>\n",
       "  <tbody>\n",
       "    <tr>\n",
       "      <th>979</th>\n",
       "      <td>749981277374128128</td>\n",
       "      <td>NaN</td>\n",
       "      <td>NaN</td>\n",
       "      <td>2016-07-04 15:00:45 +0000</td>\n",
       "      <td>&lt;a href=\"https://about.twitter.com/products/tw...</td>\n",
       "      <td>This is Atticus. He's quite simply America af....</td>\n",
       "      <td>0.0</td>\n",
       "      <td>NaN</td>\n",
       "      <td>NaN</td>\n",
       "      <td>https://twitter.com/dog_rates/status/749981277...</td>\n",
       "      <td>1776</td>\n",
       "      <td>10</td>\n",
       "      <td>Atticus</td>\n",
       "      <td>None</td>\n",
       "      <td>None</td>\n",
       "      <td>None</td>\n",
       "      <td>None</td>\n",
       "    </tr>\n",
       "  </tbody>\n",
       "</table>\n",
       "</div>"
      ],
      "text/plain": [
       "               tweet_id  in_reply_to_status_id  in_reply_to_user_id  \\\n",
       "979  749981277374128128                    NaN                  NaN   \n",
       "\n",
       "                     timestamp  \\\n",
       "979  2016-07-04 15:00:45 +0000   \n",
       "\n",
       "                                                source  \\\n",
       "979  <a href=\"https://about.twitter.com/products/tw...   \n",
       "\n",
       "                                                  text  retweeted_status_id  \\\n",
       "979  This is Atticus. He's quite simply America af....                  0.0   \n",
       "\n",
       "     retweeted_status_user_id retweeted_status_timestamp  \\\n",
       "979                       NaN                        NaN   \n",
       "\n",
       "                                         expanded_urls  rating_numerator  \\\n",
       "979  https://twitter.com/dog_rates/status/749981277...              1776   \n",
       "\n",
       "     rating_denominator     name doggo floofer pupper puppo  \n",
       "979                  10  Atticus  None    None   None  None  "
      ]
     },
     "execution_count": 53,
     "metadata": {},
     "output_type": "execute_result"
    }
   ],
   "source": [
    "df.query('rating_numerator == 1776')"
   ]
  },
  {
   "cell_type": "code",
   "execution_count": 54,
   "metadata": {},
   "outputs": [
    {
     "data": {
      "text/html": [
       "<div>\n",
       "<style scoped>\n",
       "    .dataframe tbody tr th:only-of-type {\n",
       "        vertical-align: middle;\n",
       "    }\n",
       "\n",
       "    .dataframe tbody tr th {\n",
       "        vertical-align: top;\n",
       "    }\n",
       "\n",
       "    .dataframe thead th {\n",
       "        text-align: right;\n",
       "    }\n",
       "</style>\n",
       "<table border=\"1\" class=\"dataframe\">\n",
       "  <thead>\n",
       "    <tr style=\"text-align: right;\">\n",
       "      <th></th>\n",
       "      <th>tweet_id</th>\n",
       "      <th>jpg_url</th>\n",
       "      <th>img_num</th>\n",
       "      <th>p1</th>\n",
       "      <th>p1_conf</th>\n",
       "      <th>p1_dog</th>\n",
       "      <th>p2</th>\n",
       "      <th>p2_conf</th>\n",
       "      <th>p2_dog</th>\n",
       "      <th>p3</th>\n",
       "      <th>p3_conf</th>\n",
       "      <th>p3_dog</th>\n",
       "    </tr>\n",
       "  </thead>\n",
       "  <tbody>\n",
       "    <tr>\n",
       "      <th>1270</th>\n",
       "      <td>749981277374128128</td>\n",
       "      <td>https://pbs.twimg.com/media/CmgBZ7kWcAAlzFD.jpg</td>\n",
       "      <td>1</td>\n",
       "      <td>bow_tie</td>\n",
       "      <td>0.533941</td>\n",
       "      <td>False</td>\n",
       "      <td>sunglasses</td>\n",
       "      <td>0.080822</td>\n",
       "      <td>False</td>\n",
       "      <td>sunglass</td>\n",
       "      <td>0.050776</td>\n",
       "      <td>False</td>\n",
       "    </tr>\n",
       "  </tbody>\n",
       "</table>\n",
       "</div>"
      ],
      "text/plain": [
       "                tweet_id                                          jpg_url  \\\n",
       "1270  749981277374128128  https://pbs.twimg.com/media/CmgBZ7kWcAAlzFD.jpg   \n",
       "\n",
       "      img_num       p1   p1_conf  p1_dog          p2   p2_conf  p2_dog  \\\n",
       "1270        1  bow_tie  0.533941   False  sunglasses  0.080822   False   \n",
       "\n",
       "            p3   p3_conf  p3_dog  \n",
       "1270  sunglass  0.050776   False  "
      ]
     },
     "execution_count": 54,
     "metadata": {},
     "output_type": "execute_result"
    }
   ],
   "source": [
    "i_predictions.query('tweet_id == 749981277374128128')"
   ]
  },
  {
   "cell_type": "markdown",
   "metadata": {},
   "source": [
    "<img src=\"1776Dog.jpg\">"
   ]
  },
  {
   "cell_type": "code",
   "execution_count": 55,
   "metadata": {},
   "outputs": [
    {
     "name": "stdout",
     "output_type": "stream",
     "text": [
      "This is Atticus. He's quite simply America af. 1776/10 https://t.co/GRXwMxLBkh\n"
     ]
    }
   ],
   "source": [
    "print (df.iloc[979,5])"
   ]
  },
  {
   "cell_type": "markdown",
   "metadata": {},
   "source": [
    "Having had a look at some of the ratings there was one which stood out to me as being odd. Most of the ratings are around the 11, 12 and 13 mark but this one was at 1776. By looking more in to the Data for that row it can be sen that the post was made on  4th July and by loading in the picture it is obvious the doggo is a patriotic one. Therefore the rating of 1776 is intensional because that is when independance was offically signed and although it is a outlier it should not be disregarded.  "
   ]
  },
  {
   "cell_type": "markdown",
   "metadata": {},
   "source": [
    "### Insight 2 "
   ]
  },
  {
   "cell_type": "code",
   "execution_count": 56,
   "metadata": {
    "scrolled": true
   },
   "outputs": [
    {
     "data": {
      "text/plain": [
       "Text(0,0.5,'favorite_count')"
      ]
     },
     "execution_count": 56,
     "metadata": {},
     "output_type": "execute_result"
    },
    {
     "data": {
      "image/png": "[encoded data removed]",
      "text/plain": [
       "<matplotlib.figure.Figure at 0x7f802d49bfd0>"
      ]
     },
     "metadata": {
      "needs_background": "light"
     },
     "output_type": "display_data"
    }
   ],
   "source": [
    "plt.scatter(df_copy['retweet_count'],df_copy['favorite_count'])\n",
    "plt.xlabel('retweet_count')\n",
    "plt.ylabel('favorite_count')"
   ]
  },
  {
   "cell_type": "markdown",
   "metadata": {},
   "source": [
    "It was interesting to compare if the amount of retweets would corrolate to the amount of favorites a post gets. From the scatter plot above it is clear that there is a positive correlation between retweet_count and favorite_count; the more retweets the more favorites. "
   ]
  },
  {
   "cell_type": "markdown",
   "metadata": {},
   "source": [
    "### Insight 3 "
   ]
  },
  {
   "cell_type": "code",
   "execution_count": 57,
   "metadata": {},
   "outputs": [
    {
     "data": {
      "text/plain": [
       "<matplotlib.axes._subplots.AxesSubplot at 0x7f802d74f3c8>"
      ]
     },
     "execution_count": 57,
     "metadata": {},
     "output_type": "execute_result"
    },
    {
     "data": {
      "image/png": "[encoded data removed]",
      "text/plain": [
       "<matplotlib.figure.Figure at 0x7f802dbc8780>"
      ]
     },
     "metadata": {
      "needs_background": "light"
     },
     "output_type": "display_data"
    }
   ],
   "source": [
    "df_copy['p1'].value_counts()[:20].plot(kind='barh')"
   ]
  },
  {
   "cell_type": "markdown",
   "metadata": {},
   "source": [
    "This insight is useful to find which breed is the most popular based on the predictions for what breed the dog is in the image.  "
   ]
  }
 ],
 "metadata": {
  "kernelspec": {
   "display_name": "Python 3",
   "language": "python",
   "name": "python3"
  },
  "language_info": {
   "codemirror_mode": {
    "name": "ipython",
    "version": 3
   },
   "file_extension": ".py",
   "mimetype": "text/x-python",
   "name": "python",
   "nbconvert_exporter": "python",
   "pygments_lexer": "ipython3",
   "version": "3.6.3"
  }
 },
 "nbformat": 4,
 "nbformat_minor": 2
}
